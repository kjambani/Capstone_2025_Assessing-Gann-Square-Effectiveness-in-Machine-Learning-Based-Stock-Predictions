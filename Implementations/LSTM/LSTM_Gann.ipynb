{
  "nbformat": 4,
  "nbformat_minor": 0,
  "metadata": {
    "colab": {
      "provenance": []
    },
    "kernelspec": {
      "name": "python3",
      "display_name": "Python 3"
    },
    "language_info": {
      "name": "python"
    }
  },
  "cells": [
    {
      "cell_type": "code",
      "execution_count": null,
      "metadata": {
        "colab": {
          "base_uri": "https://localhost:8080/"
        },
        "id": "UZkyY0VmoIpd",
        "outputId": "135be571-cb88-438c-ebd6-39ff1febd430"
      },
      "outputs": [
        {
          "output_type": "stream",
          "name": "stdout",
          "text": [
            "\n",
            "===== Running LSTM + Gann for AAPL =====\n"
          ]
        },
        {
          "output_type": "stream",
          "name": "stderr",
          "text": [
            "/tmp/ipython-input-3494779776.py:68: FutureWarning: YF.download() has changed argument auto_adjust default to True\n",
            "  df = yf.download(ticker, start=START, end=END, progress=False)\n",
            "/usr/local/lib/python3.11/dist-packages/keras/src/layers/rnn/rnn.py:199: UserWarning: Do not pass an `input_shape`/`input_dim` argument to a layer. When using Sequential models, prefer using an `Input(shape)` object as the first layer in the model instead.\n",
            "  super().__init__(**kwargs)\n"
          ]
        },
        {
          "output_type": "stream",
          "name": "stdout",
          "text": [
            "\u001b[1m16/16\u001b[0m \u001b[32m━━━━━━━━━━━━━━━━━━━━\u001b[0m\u001b[37m\u001b[0m \u001b[1m0s\u001b[0m 15ms/step\n",
            "AAPL → RMSE: 103.1703, MAE: 99.3700, MAPE: 0.5161\n",
            "\n",
            "===== Running LSTM + Gann for MSFT =====\n"
          ]
        },
        {
          "output_type": "stream",
          "name": "stderr",
          "text": [
            "/tmp/ipython-input-3494779776.py:68: FutureWarning: YF.download() has changed argument auto_adjust default to True\n",
            "  df = yf.download(ticker, start=START, end=END, progress=False)\n",
            "/usr/local/lib/python3.11/dist-packages/keras/src/layers/rnn/rnn.py:199: UserWarning: Do not pass an `input_shape`/`input_dim` argument to a layer. When using Sequential models, prefer using an `Input(shape)` object as the first layer in the model instead.\n",
            "  super().__init__(**kwargs)\n"
          ]
        },
        {
          "output_type": "stream",
          "name": "stdout",
          "text": [
            "\u001b[1m16/16\u001b[0m \u001b[32m━━━━━━━━━━━━━━━━━━━━\u001b[0m\u001b[37m\u001b[0m \u001b[1m0s\u001b[0m 16ms/step\n",
            "MSFT → RMSE: 284.0307, MAE: 277.2249, MAPE: 0.7531\n",
            "\n",
            "===== Running LSTM + Gann for GOOG =====\n"
          ]
        },
        {
          "output_type": "stream",
          "name": "stderr",
          "text": [
            "/tmp/ipython-input-3494779776.py:68: FutureWarning: YF.download() has changed argument auto_adjust default to True\n",
            "  df = yf.download(ticker, start=START, end=END, progress=False)\n",
            "/usr/local/lib/python3.11/dist-packages/keras/src/layers/rnn/rnn.py:199: UserWarning: Do not pass an `input_shape`/`input_dim` argument to a layer. When using Sequential models, prefer using an `Input(shape)` object as the first layer in the model instead.\n",
            "  super().__init__(**kwargs)\n"
          ]
        },
        {
          "output_type": "stream",
          "name": "stdout",
          "text": [
            "\u001b[1m16/16\u001b[0m \u001b[32m━━━━━━━━━━━━━━━━━━━━\u001b[0m\u001b[37m\u001b[0m \u001b[1m0s\u001b[0m 16ms/step\n",
            "GOOG → RMSE: 70.6104, MAE: 65.0326, MAPE: 0.4351\n"
          ]
        }
      ],
      "source": [
        "# LSTM for Stock Market Prediction with Gann Features (multiple tickers, no scaling)\n",
        "\n",
        "import math\n",
        "import numpy as np\n",
        "import pandas as pd\n",
        "import yfinance as yf\n",
        "from sklearn.metrics import mean_squared_error, mean_absolute_error, mean_absolute_percentage_error\n",
        "import tensorflow as tf\n",
        "from tensorflow.keras.models import Sequential\n",
        "from tensorflow.keras.layers import LSTM, Dense, Dropout\n",
        "\n",
        "np.random.seed(42)\n",
        "tf.random.set_seed(42)\n",
        "\n",
        "# ----------------- Config -----------------\n",
        "TICKERS = [\"AAPL\", \"MSFT\", \"GOOG\"]   # List of tickers\n",
        "START = \"2015-01-01\"\n",
        "END = \"2025-01-01\"\n",
        "SEQ_LEN = 21\n",
        "EPOCHS = 30\n",
        "BATCH_SIZE = 32\n",
        "# ------------------------------------------\n",
        "\n",
        "import numpy as np\n",
        "\n",
        "def add_gann_features(df, step=0.25):\n",
        "    df = df.copy()\n",
        "\n",
        "    def _gann_calc(price):\n",
        "        p = float(price)\n",
        "        root_price = np.sqrt(p)\n",
        "        res = (root_price + step) ** 2\n",
        "        sup = (root_price - step) ** 2\n",
        "        return res, sup\n",
        "\n",
        "    # Find the Close column dynamically\n",
        "    close_cols = [col for col in df.columns if col[0] == 'Close']\n",
        "    close_col = close_cols[0]  # Get first Close column\n",
        "    ticker = close_col[1]  # Extract ticker name (AAPL, MSFT, etc.)\n",
        "\n",
        "    gann_values = df[close_col].apply(_gann_calc)\n",
        "    df[('GannRes', ticker)] = [x[0] for x in gann_values]\n",
        "    df[('GannSup', ticker)] = [x[1] for x in gann_values]\n",
        "\n",
        "    return df\n",
        "\n",
        "\n",
        "def create_sequences(arr, seq_len, target_col_idx=3):\n",
        "    X, y = [], []\n",
        "    for i in range(len(arr) - seq_len):\n",
        "        X.append(arr[i:i+seq_len])\n",
        "        y.append(arr[i+seq_len, target_col_idx])\n",
        "    return np.array(X), np.array(y)\n",
        "\n",
        "def build_lstm(input_shape):\n",
        "    model = Sequential([\n",
        "        LSTM(64, return_sequences=False, input_shape=input_shape),\n",
        "        Dropout(0.2),\n",
        "        Dense(1)\n",
        "    ])\n",
        "    model.compile(optimizer='adam', loss='mse')\n",
        "    return model\n",
        "\n",
        "for ticker in TICKERS:\n",
        "    print(f\"\\n===== Running LSTM + Gann for {ticker} =====\")\n",
        "\n",
        "    # 1) Download data\n",
        "    df = yf.download(ticker, start=START, end=END, progress=False)\n",
        "    df = df[['Open', 'High', 'Low', 'Close']].round(2).dropna()\n",
        "\n",
        "    # 2) Add Gann features\n",
        "    df = add_gann_features(df)\n",
        "\n",
        "\n",
        "    # 3) Sequence creation\n",
        "    values = df.values\n",
        "    X, y = create_sequences(values, SEQ_LEN, 3)\n",
        "\n",
        "    # Train-test split\n",
        "    split = int(len(X) * 0.8)\n",
        "    X_train, y_train = X[:split], y[:split]\n",
        "    X_test, y_test = X[split:], y[split:]\n",
        "\n",
        "    # 4) Model\n",
        "    model = build_lstm((SEQ_LEN, X.shape[2]))\n",
        "    model.fit(X_train, y_train, validation_data=(X_test, y_test),\n",
        "              epochs=EPOCHS, batch_size=BATCH_SIZE, verbose=0)\n",
        "\n",
        "    # 5) Evaluate\n",
        "    pred = model.predict(X_test).ravel()\n",
        "    rmse = math.sqrt(mean_squared_error(y_test, pred))\n",
        "    mae = mean_absolute_error(y_test, pred)\n",
        "    mape = mean_absolute_percentage_error(y_test, pred)\n",
        "\n",
        "    print(f\"{ticker} → RMSE: {rmse:.4f}, MAE: {mae:.4f}, MAPE: {mape:.4f}\")"
      ]
    },
    {
      "cell_type": "code",
      "source": [],
      "metadata": {
        "id": "6HhSK0sqrF3j"
      },
      "execution_count": null,
      "outputs": []
    }
  ]
}