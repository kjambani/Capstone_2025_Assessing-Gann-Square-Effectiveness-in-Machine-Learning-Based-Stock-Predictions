{
  "nbformat": 4,
  "nbformat_minor": 0,
  "metadata": {
    "colab": {
      "provenance": []
    },
    "kernelspec": {
      "name": "python3",
      "display_name": "Python 3"
    },
    "language_info": {
      "name": "python"
    }
  },
  "cells": [
    {
      "cell_type": "code",
      "execution_count": null,
      "metadata": {
        "colab": {
          "base_uri": "https://localhost:8080/"
        },
        "id": "vdZfvhOPl93p",
        "outputId": "2ca32e98-d1f8-4e82-9235-51ae5c671157"
      },
      "outputs": [
        {
          "output_type": "stream",
          "name": "stdout",
          "text": [
            "\n",
            "===== Running LSTM + Technical Indicators for AAPL =====\n"
          ]
        },
        {
          "output_type": "stream",
          "name": "stderr",
          "text": [
            "/tmp/ipython-input-2010614393.py:76: FutureWarning: YF.download() has changed argument auto_adjust default to True\n",
            "  df = yf.download(ticker, start=START, end=END, progress=False)\n",
            "/usr/local/lib/python3.11/dist-packages/keras/src/layers/rnn/rnn.py:199: UserWarning: Do not pass an `input_shape`/`input_dim` argument to a layer. When using Sequential models, prefer using an `Input(shape)` object as the first layer in the model instead.\n",
            "  super().__init__(**kwargs)\n"
          ]
        },
        {
          "output_type": "stream",
          "name": "stdout",
          "text": [
            "\u001b[1m16/16\u001b[0m \u001b[32m━━━━━━━━━━━━━━━━━━━━\u001b[0m\u001b[37m\u001b[0m \u001b[1m0s\u001b[0m 16ms/step\n",
            "AAPL → RMSE: 106.3394, MAE: 102.8886, MAPE: 0.5329\n",
            "\n",
            "===== Running LSTM + Technical Indicators for MSFT =====\n"
          ]
        },
        {
          "output_type": "stream",
          "name": "stderr",
          "text": [
            "/tmp/ipython-input-2010614393.py:76: FutureWarning: YF.download() has changed argument auto_adjust default to True\n",
            "  df = yf.download(ticker, start=START, end=END, progress=False)\n",
            "/usr/local/lib/python3.11/dist-packages/keras/src/layers/rnn/rnn.py:199: UserWarning: Do not pass an `input_shape`/`input_dim` argument to a layer. When using Sequential models, prefer using an `Input(shape)` object as the first layer in the model instead.\n",
            "  super().__init__(**kwargs)\n"
          ]
        },
        {
          "output_type": "stream",
          "name": "stdout",
          "text": [
            "\u001b[1m16/16\u001b[0m \u001b[32m━━━━━━━━━━━━━━━━━━━━\u001b[0m\u001b[37m\u001b[0m \u001b[1m1s\u001b[0m 42ms/step\n",
            "MSFT → RMSE: 287.9121, MAE: 281.6845, MAPE: 0.7611\n",
            "\n",
            "===== Running LSTM + Technical Indicators for GOOG =====\n"
          ]
        },
        {
          "output_type": "stream",
          "name": "stderr",
          "text": [
            "/tmp/ipython-input-2010614393.py:76: FutureWarning: YF.download() has changed argument auto_adjust default to True\n",
            "  df = yf.download(ticker, start=START, end=END, progress=False)\n",
            "/usr/local/lib/python3.11/dist-packages/keras/src/layers/rnn/rnn.py:199: UserWarning: Do not pass an `input_shape`/`input_dim` argument to a layer. When using Sequential models, prefer using an `Input(shape)` object as the first layer in the model instead.\n",
            "  super().__init__(**kwargs)\n"
          ]
        },
        {
          "output_type": "stream",
          "name": "stdout",
          "text": [
            "\u001b[1m16/16\u001b[0m \u001b[32m━━━━━━━━━━━━━━━━━━━━\u001b[0m\u001b[37m\u001b[0m \u001b[1m0s\u001b[0m 20ms/step\n",
            "GOOG → RMSE: 72.8820, MAE: 67.7432, MAPE: 0.4531\n"
          ]
        }
      ],
      "source": [
        "# LSTM for Stock Market Prediction with Technical Indicators (no scaling)\n",
        "\n",
        "import math\n",
        "import numpy as np\n",
        "import pandas as pd\n",
        "import yfinance as yf\n",
        "from sklearn.metrics import mean_squared_error, mean_absolute_error, mean_absolute_percentage_error\n",
        "import tensorflow as tf\n",
        "from tensorflow.keras.models import Sequential\n",
        "from tensorflow.keras.layers import LSTM, Dense, Dropout\n",
        "\n",
        "np.random.seed(42)\n",
        "tf.random.set_seed(42)\n",
        "\n",
        "# ----------------- Config -----------------\n",
        "TICKERS = [\"AAPL\", \"MSFT\", \"GOOG\"]   # Run for multiple tickers\n",
        "START = \"2015-01-01\"\n",
        "END = \"2025-01-01\"\n",
        "SEQ_LEN = 21\n",
        "EPOCHS = 30\n",
        "BATCH_SIZE = 32\n",
        "# ------------------------------------------\n",
        "\n",
        "# ----- Technical Indicator Functions -----\n",
        "def add_indicators(df):\n",
        "    df['MA10'] = df['Close'].rolling(10).mean()\n",
        "    df['MA50'] = df['Close'].rolling(50).mean()\n",
        "\n",
        "    # RSI\n",
        "    delta = df['Close'].diff()\n",
        "    gain = (delta.where(delta > 0, 0)).rolling(14).mean()\n",
        "    loss = (-delta.where(delta < 0, 0)).rolling(14).mean()\n",
        "    rs = gain / loss\n",
        "    df['RSI'] = 100 - (100 / (1 + rs))\n",
        "\n",
        "    # MACD (12-26) + Signal (9)\n",
        "    ema12 = df['Close'].ewm(span=12, adjust=False).mean()\n",
        "    ema26 = df['Close'].ewm(span=26, adjust=False).mean()\n",
        "    df['MACD'] = ema12 - ema26\n",
        "    df['Signal'] = df['MACD'].ewm(span=9, adjust=False).mean()\n",
        "\n",
        "    # Bollinger Bands (20-day)\n",
        "    sma20 = df['Close'].rolling(20).mean()\n",
        "    std20 = df['Close'].rolling(20).std()\n",
        "    df['BB_upper'] = sma20 + (2 * std20)\n",
        "    df['BB_lower'] = sma20 - (2 * std20)\n",
        "\n",
        "    return df.dropna()\n",
        "\n",
        "\n",
        "# ----- Sequence creation -----\n",
        "def create_sequences(arr, seq_len, target_col_idx=3):  # Close = col 3\n",
        "    X, y = [], []\n",
        "    for i in range(len(arr) - seq_len):\n",
        "        X.append(arr[i:i+seq_len])\n",
        "        y.append(arr[i+seq_len, target_col_idx])\n",
        "    return np.array(X), np.array(y)\n",
        "\n",
        "\n",
        "# ----- Model -----\n",
        "def build_lstm(input_shape):\n",
        "    model = Sequential([\n",
        "        LSTM(64, return_sequences=False, input_shape=input_shape),\n",
        "        Dropout(0.2),\n",
        "        Dense(1)\n",
        "    ])\n",
        "    model.compile(optimizer='adam', loss='mse')\n",
        "    return model\n",
        "\n",
        "\n",
        "# ----- Run for each ticker -----\n",
        "for ticker in TICKERS:\n",
        "    print(f\"\\n===== Running LSTM + Technical Indicators for {ticker} =====\")\n",
        "\n",
        "    # 1) Download data\n",
        "    df = yf.download(ticker, start=START, end=END, progress=False)\n",
        "    df = df[['Open', 'High', 'Low', 'Close']].round(2).dropna()\n",
        "\n",
        "    # 2) Add indicators\n",
        "    df = add_indicators(df)\n",
        "\n",
        "    # 3) Sequence creation\n",
        "    values = df.values\n",
        "    X, y = create_sequences(values, SEQ_LEN, 3)\n",
        "\n",
        "    # Train-test split\n",
        "    split = int(len(X) * 0.8)\n",
        "    X_train, y_train = X[:split], y[:split]\n",
        "    X_test, y_test = X[split:], y[split:]\n",
        "\n",
        "    # 4) Model\n",
        "    model = build_lstm((SEQ_LEN, X.shape[2]))\n",
        "    model.fit(X_train, y_train, validation_data=(X_test, y_test),\n",
        "              epochs=EPOCHS, batch_size=BATCH_SIZE, verbose=0)\n",
        "\n",
        "    # 5) Evaluate\n",
        "    pred = model.predict(X_test).ravel()\n",
        "    rmse = math.sqrt(mean_squared_error(y_test, pred))\n",
        "    mae = mean_absolute_error(y_test, pred)\n",
        "    mape = mean_absolute_percentage_error(y_test, pred)\n",
        "\n",
        "    print(f\"{ticker} → RMSE: {rmse:.4f}, MAE: {mae:.4f}, MAPE: {mape:.4f}\")\n"
      ]
    }
  ]
}