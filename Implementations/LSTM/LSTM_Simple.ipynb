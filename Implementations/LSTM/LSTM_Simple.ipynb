{
  "nbformat": 4,
  "nbformat_minor": 0,
  "metadata": {
    "colab": {
      "provenance": []
    },
    "kernelspec": {
      "name": "python3",
      "display_name": "Python 3"
    },
    "language_info": {
      "name": "python"
    }
  },
  "cells": [
    {
      "cell_type": "code",
      "execution_count": null,
      "metadata": {
        "colab": {
          "base_uri": "https://localhost:8080/"
        },
        "id": "w8dZ-dGOlzkM",
        "outputId": "d8eb42ed-e69d-453d-e570-e22c7c47554d"
      },
      "outputs": [
        {
          "output_type": "stream",
          "name": "stdout",
          "text": [
            "\n",
            "===== Running Baseline LSTM for AAPL =====\n"
          ]
        },
        {
          "output_type": "stream",
          "name": "stderr",
          "text": [
            "/tmp/ipython-input-4258611522.py:44: FutureWarning: YF.download() has changed argument auto_adjust default to True\n",
            "  df = yf.download(ticker, start=START, end=END, progress=False)\n",
            "/usr/local/lib/python3.11/dist-packages/keras/src/layers/rnn/rnn.py:199: UserWarning: Do not pass an `input_shape`/`input_dim` argument to a layer. When using Sequential models, prefer using an `Input(shape)` object as the first layer in the model instead.\n",
            "  super().__init__(**kwargs)\n"
          ]
        },
        {
          "output_type": "stream",
          "name": "stdout",
          "text": [
            "\u001b[1m16/16\u001b[0m \u001b[32m━━━━━━━━━━━━━━━━━━━━\u001b[0m\u001b[37m\u001b[0m \u001b[1m1s\u001b[0m 22ms/step\n",
            "AAPL → RMSE: 96.8514, MAE: 92.7932, MAPE: 0.4805\n",
            "\n",
            "===== Running Baseline LSTM for MSFT =====\n"
          ]
        },
        {
          "output_type": "stream",
          "name": "stderr",
          "text": [
            "/tmp/ipython-input-4258611522.py:44: FutureWarning: YF.download() has changed argument auto_adjust default to True\n",
            "  df = yf.download(ticker, start=START, end=END, progress=False)\n",
            "/usr/local/lib/python3.11/dist-packages/keras/src/layers/rnn/rnn.py:199: UserWarning: Do not pass an `input_shape`/`input_dim` argument to a layer. When using Sequential models, prefer using an `Input(shape)` object as the first layer in the model instead.\n",
            "  super().__init__(**kwargs)\n"
          ]
        },
        {
          "output_type": "stream",
          "name": "stdout",
          "text": [
            "\u001b[1m16/16\u001b[0m \u001b[32m━━━━━━━━━━━━━━━━━━━━\u001b[0m\u001b[37m\u001b[0m \u001b[1m0s\u001b[0m 15ms/step\n",
            "MSFT → RMSE: 270.8924, MAE: 263.7478, MAPE: 0.7149\n",
            "\n",
            "===== Running Baseline LSTM for GOOG =====\n"
          ]
        },
        {
          "output_type": "stream",
          "name": "stderr",
          "text": [
            "/tmp/ipython-input-4258611522.py:44: FutureWarning: YF.download() has changed argument auto_adjust default to True\n",
            "  df = yf.download(ticker, start=START, end=END, progress=False)\n",
            "/usr/local/lib/python3.11/dist-packages/keras/src/layers/rnn/rnn.py:199: UserWarning: Do not pass an `input_shape`/`input_dim` argument to a layer. When using Sequential models, prefer using an `Input(shape)` object as the first layer in the model instead.\n",
            "  super().__init__(**kwargs)\n"
          ]
        },
        {
          "output_type": "stream",
          "name": "stdout",
          "text": [
            "\u001b[1m16/16\u001b[0m \u001b[32m━━━━━━━━━━━━━━━━━━━━\u001b[0m\u001b[37m\u001b[0m \u001b[1m0s\u001b[0m 15ms/step\n",
            "GOOG → RMSE: 65.8385, MAE: 59.8252, MAPE: 0.3969\n"
          ]
        }
      ],
      "source": [
        "# Baseline LSTM for Stock Market Prediction (multiple tickers, OHLC only, no scaling)\n",
        "\n",
        "import math\n",
        "import numpy as np\n",
        "import pandas as pd\n",
        "import yfinance as yf\n",
        "from sklearn.metrics import mean_squared_error, mean_absolute_error, mean_absolute_percentage_error\n",
        "import tensorflow as tf\n",
        "from tensorflow.keras.models import Sequential\n",
        "from tensorflow.keras.layers import LSTM, Dense, Dropout\n",
        "\n",
        "np.random.seed(42)\n",
        "tf.random.set_seed(42)\n",
        "\n",
        "# ----------------- Config -----------------\n",
        "TICKERS = [\"AAPL\", \"MSFT\", \"GOOG\"]   # List of tickers\n",
        "START = \"2015-01-01\"\n",
        "END = \"2025-01-01\"\n",
        "SEQ_LEN = 21\n",
        "EPOCHS = 30\n",
        "BATCH_SIZE = 32\n",
        "# ------------------------------------------\n",
        "\n",
        "def create_sequences(arr, seq_len, target_col_idx=3):\n",
        "    X, y = [], []\n",
        "    for i in range(len(arr) - seq_len):\n",
        "        X.append(arr[i:i+seq_len])\n",
        "        y.append(arr[i+seq_len, target_col_idx])\n",
        "    return np.array(X), np.array(y)\n",
        "\n",
        "def build_lstm(input_shape):\n",
        "    model = Sequential([\n",
        "        LSTM(64, return_sequences=False, input_shape=input_shape),\n",
        "        Dropout(0.2),\n",
        "        Dense(1)\n",
        "    ])\n",
        "    model.compile(optimizer='adam', loss='mse')\n",
        "    return model\n",
        "\n",
        "for ticker in TICKERS:\n",
        "    print(f\"\\n===== Running Baseline LSTM for {ticker} =====\")\n",
        "\n",
        "    # 1) Download data\n",
        "    df = yf.download(ticker, start=START, end=END, progress=False)\n",
        "    df = df[['Open', 'High', 'Low', 'Close']].round(2).dropna()\n",
        "\n",
        "    # 2) Sequence creation\n",
        "    values = df.values\n",
        "    X, y = create_sequences(values, SEQ_LEN, 3)\n",
        "\n",
        "    # Train-test split\n",
        "    split = int(len(X) * 0.8)\n",
        "    X_train, y_train = X[:split], y[:split]\n",
        "    X_test, y_test = X[split:], y[split:]\n",
        "\n",
        "    # 3) Model\n",
        "    model = build_lstm((SEQ_LEN, X.shape[2]))\n",
        "    model.fit(X_train, y_train, validation_data=(X_test, y_test),\n",
        "              epochs=EPOCHS, batch_size=BATCH_SIZE, verbose=0)\n",
        "\n",
        "    # 4) Evaluate\n",
        "    pred = model.predict(X_test).ravel()\n",
        "    rmse = math.sqrt(mean_squared_error(y_test, pred))\n",
        "    mae = mean_absolute_error(y_test, pred)\n",
        "    mape = mean_absolute_percentage_error(y_test, pred)\n",
        "\n",
        "    print(f\"{ticker} → RMSE: {rmse:.4f}, MAE: {mae:.4f}, MAPE: {mape:.4f}\")\n"
      ]
    }
  ]
}